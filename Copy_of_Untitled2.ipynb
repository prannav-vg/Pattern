{
  "nbformat": 4,
  "nbformat_minor": 0,
  "metadata": {
    "colab": {
      "provenance": [],
      "authorship_tag": "ABX9TyOUYSETBWkaOxk/6ciStPTl",
      "include_colab_link": true
    },
    "kernelspec": {
      "name": "python3",
      "display_name": "Python 3"
    },
    "language_info": {
      "name": "python"
    }
  },
  "cells": [
    {
      "cell_type": "markdown",
      "metadata": {
        "id": "view-in-github",
        "colab_type": "text"
      },
      "source": [
        "<a href=\"https://colab.research.google.com/github/prannav-vg/Pattern/blob/main/Copy_of_Untitled2.ipynb\" target=\"_parent\"><img src=\"https://colab.research.google.com/assets/colab-badge.svg\" alt=\"Open In Colab\"/></a>"
      ]
    },
    {
      "cell_type": "code",
      "execution_count": null,
      "metadata": {
        "colab": {
          "base_uri": "https://localhost:8080/"
        },
        "id": "Zgxj9K_CvHvY",
        "outputId": "5c06859f-1209-4f7e-bc58-16c3cd8db24a"
      },
      "outputs": [
        {
          "output_type": "stream",
          "name": "stdout",
          "text": [
            "Pattern found at indices: [6, 9, 15, 26, 31, 41]\n",
            "Highlighted text:\n",
            "the ra[in] [in] spa[in] stays ma[in]ly [in] the pla[in]\n"
          ]
        }
      ],
      "source": [
        "def search_pattern(pat, txt):\n",
        "    m = len(pat)\n",
        "    n = len(txt)\n",
        "    matches = []\n",
        "\n",
        "    for i in range(n - m + 1):\n",
        "        if txt[i:i + m] == pat:\n",
        "            matches.append(i)\n",
        "\n",
        "    if not matches:\n",
        "        print(\"Pattern not found.\")\n",
        "        return\n",
        "\n",
        "    print(\"Pattern found at indices:\", matches)\n",
        "\n",
        "    # Optional: show matched parts in brackets\n",
        "    result = []\n",
        "    skip = 0\n",
        "    for i in range(n):\n",
        "        if skip:\n",
        "            skip -= 1\n",
        "            continue\n",
        "        if i in matches:\n",
        "            result.append('[' + txt[i:i + m] + ']')\n",
        "            skip = m - 1\n",
        "        else:\n",
        "            result.append(txt[i])\n",
        "\n",
        "    print(\"Highlighted text:\")\n",
        "    print(''.join(result))\n",
        "\n",
        "# Example usage\n",
        "if __name__ == \"__main__\":\n",
        "    text = \"the rain in spain stays mainly in the plain\"\n",
        "    pattern = \"in\"\n",
        "    search_pattern(pattern, text)\n"
      ]
    }
  ]
}